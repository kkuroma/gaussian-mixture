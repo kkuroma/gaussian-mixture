{
 "cells": [
  {
   "cell_type": "markdown",
   "id": "77497e84",
   "metadata": {},
   "source": [
    "# The M2 Model\n",
    "\n",
    "The M2 model generalizes the VAE by learning the distribution of a dataset $\\mathbf{x}_1, \\mathbf{x}_2, \\dots, \\mathbf{x}_n$ given they are sampled conditioned on a latent $\\mathbf{z}$ sampled as a standard Gaussian vector (like the VAE) and a categorical condition $c$. Below, we show an implementation of the M2 model of top of the standard VAE:"
   ]
  },
  {
   "cell_type": "code",
   "execution_count": 1,
   "id": "de4c8044",
   "metadata": {},
   "outputs": [],
   "source": [
    "import numpy as np\n",
    "import matplotlib.pyplot as plt\n",
    "import torch\n",
    "from torch import nn\n",
    "import random\n",
    "from tqdm import tqdm\n",
    "import torchvision\n",
    "import torchvision.datasets as datasets\n",
    "\n",
    "#for consistency, all seeds are set to 69420\n",
    "seed = 69420\n",
    "random.seed(seed)\n",
    "np.random.seed(seed)\n",
    "torch.manual_seed(seed)\n",
    "torch.cuda.manual_seed(seed)"
   ]
  },
  {
   "cell_type": "code",
   "execution_count": null,
   "id": "0ff5a591",
   "metadata": {},
   "outputs": [],
   "source": [
    "transforms = torchvision.transforms.Compose([\n",
    "    torchvision.transforms.Resize((32,32)),\n",
    "    torchvision.transforms.ToTensor()\n",
    "])\n",
    "\n",
    "mnist_trainset = datasets.MNIST(root='./data', train=True, download=True, transform=transforms)\n",
    "data_loader = torch.utils.data.DataLoader(mnist_trainset,batch_size=128,shuffle=True,num_workers=1)\n",
    "\n",
    "plt.gray()\n",
    "\n",
    "def plotter(images):\n",
    "    f = -(-len(images)//3)\n",
    "    fig,ax = plt.subplots(3,f,figsize=(5*f, 15))\n",
    "    for i in range(len(images)):\n",
    "        ax[i%3,i//3].imshow(images[i,0])\n",
    "    for aa in ax:\n",
    "        for aaa in aa:\n",
    "            aaa.axis(\"off\")\n",
    "    plt.show()\n",
    "\n",
    "for a, b in data_loader:\n",
    "    plotter(a[0:20])\n",
    "    break"
   ]
  }
 ],
 "metadata": {
  "kernelspec": {
   "display_name": "main",
   "language": "python",
   "name": "python3"
  },
  "language_info": {
   "codemirror_mode": {
    "name": "ipython",
    "version": 3
   },
   "file_extension": ".py",
   "mimetype": "text/x-python",
   "name": "python",
   "nbconvert_exporter": "python",
   "pygments_lexer": "ipython3",
   "version": "3.12.5"
  }
 },
 "nbformat": 4,
 "nbformat_minor": 5
}
